{
  "nbformat": 4,
  "nbformat_minor": 0,
  "metadata": {
    "colab": {
      "name": "Sentiment Analysis.ipynb",
      "provenance": [],
      "collapsed_sections": []
    },
    "kernelspec": {
      "display_name": "Python 3",
      "name": "python3"
    }
  },
  "cells": [
    {
      "cell_type": "code",
      "metadata": {
        "id": "x6PRovrYl19H"
      },
      "source": [
        "# Import libraries\r\n",
        "import tweepy as tw\r\n",
        "import matplotlib.pyplot as plt\r\n",
        "import pandas as pd\r\n",
        "from textblob import TextBlob\r\n",
        "import re\r\n",
        "\r\n",
        "# API key, API secret, access token, access token secret\r\n",
        "API_KEY = 'sau5wefTlt00B89Sc6T1Os4Gy'\r\n",
        "API_SECRET = 'JSg6Yyjx2o0oWETuFOiLoIXF1FAbTOj7FmX6GTS3vvIiJZNczk'\r\n",
        "ACCESS_TOKEN = '2605619839-gosJKVnMUIbZPCGoC6cAzkzvAgto0jmg2r0DExD'\r\n",
        "ACCESS_TOKEN_SECRET = 'siIkXRXgFuN1yUditYIYaWkVy8saqsWiEuwp69TM8CG3v'\r\n",
        "\r\n",
        "# Authentification\r\n",
        "auth = tw.OAuthHandler(API_KEY, API_SECRET)\r\n",
        "auth.set_access_token(ACCESS_TOKEN, ACCESS_TOKEN_SECRET)\r\n",
        "\r\n",
        "# API\r\n",
        "api = tw.API(auth, wait_on_rate_limit=True)"
      ],
      "execution_count": null,
      "outputs": []
    },
    {
      "cell_type": "code",
      "metadata": {
        "id": "0z-6Ldxvn9Uf"
      },
      "source": [
        "# Remove urls function\r\n",
        "def remove_url(txt):\r\n",
        "  return \" \".join(re.sub(\"([^0-9A-Za-z \\t])|(\\w+:\\/\\/\\S+)\", \"\", txt).split())"
      ],
      "execution_count": null,
      "outputs": []
    },
    {
      "cell_type": "code",
      "metadata": {
        "id": "-f81ERavoPyK",
        "colab": {
          "base_uri": "https://localhost:8080/"
        },
        "outputId": "4b342499-e28c-4b75-cbca-3de645c09180"
      },
      "source": [
        "# Create custom search and define the number of tweets\r\n",
        "search_custom = \"#ai OR #artificialintelligence articial OR intelligence OR future -filter:retweets\"\r\n",
        "\r\n",
        "# Taking the tweets\r\n",
        "raw_tweets = tw.Cursor(api.search,\r\n",
        "                       q=search_custom,\r\n",
        "                       since='2021-01-01').items(1000)\r\n",
        "\r\n",
        "# Removing url on raw_tweets\r\n",
        "raw_tweets_no_urls = [remove_url(raw_tweet.text) for raw_tweet in raw_tweets]\r\n",
        "raw_tweets_no_urls[:10]"
      ],
      "execution_count": null,
      "outputs": [
        {
          "output_type": "execute_result",
          "data": {
            "text/plain": [
              "['The impact of Artificial Intelligence on the labour marketWhat do we know so far via',\n",
              " 'AI in surgery series SurgJournalThe future of surgical microrobots includes drug delivery patching perforated',\n",
              " 'Future of CyberSecurityInfographicv ingliguoriInfoSec MobileSecurity Tech Ransomware CyberSec',\n",
              " 'Another breakthrough using AI to enhance diagnostics tests In this case artificialintelligence raised',\n",
              " 'Artificial General Intelligence AGI is an attempt to create a tool set which is able to approach any problem much',\n",
              " 'The use of AI in business processes is not restricted to B2C companies alone BernardMarr offers examples of how',\n",
              " 'Several women will lead the 21st century in the field of Artificial Intelligence In the fields of entrepreneurship',\n",
              " 'Forrester defines Business Process AI as any multistep operational process that uses two or more ML models or',\n",
              " 'AoF 56 3 Clever Ways to use Storytelling in Data Science w Kirk Borne Analytics On fire podcast Analytics on Fi',\n",
              " '10 ArtificialIntelligence Predictions for 2021Via ingliguori HT guidaautonoma']"
            ]
          },
          "metadata": {
            "tags": []
          },
          "execution_count": 11
        }
      ]
    },
    {
      "cell_type": "code",
      "metadata": {
        "id": "nwbud53_qsXh",
        "colab": {
          "base_uri": "https://localhost:8080/"
        },
        "outputId": "562e9199-1f9c-4ad1-e325-cfb214263538"
      },
      "source": [
        "# Create textblob object raw_tweets_no_urls also take total of polarity\r\n",
        "sentiment_objects = [TextBlob(raw_tweets_no_url) for raw_tweets_no_url in raw_tweets_no_urls]\r\n",
        "\r\n",
        "sentiment_objects[0].polarity, sentiment_objects[0]"
      ],
      "execution_count": null,
      "outputs": [
        {
          "output_type": "execute_result",
          "data": {
            "text/plain": [
              "(-0.25,\n",
              " TextBlob(\"The impact of Artificial Intelligence on the labour marketWhat do we know so far via\"))"
            ]
          },
          "metadata": {
            "tags": []
          },
          "execution_count": 12
        }
      ]
    },
    {
      "cell_type": "code",
      "metadata": {
        "id": "FyFG_pAOtDSY",
        "colab": {
          "base_uri": "https://localhost:8080/"
        },
        "outputId": "edcc18f4-8386-4d9c-b3d3-92f29b8a6cdb"
      },
      "source": [
        "# Create a list that consist of polarity values and the tweets\r\n",
        "sentiment_values = [[sentiment_object.sentiment.polarity, str(sentiment_object)]for sentiment_object in sentiment_objects]\r\n",
        "\r\n",
        "sentiment_values[:10]"
      ],
      "execution_count": null,
      "outputs": [
        {
          "output_type": "execute_result",
          "data": {
            "text/plain": [
              "[[-0.25,\n",
              "  'The impact of Artificial Intelligence on the labour marketWhat do we know so far via'],\n",
              " [0.0,\n",
              "  'AI in surgery series SurgJournalThe future of surgical microrobots includes drug delivery patching perforated'],\n",
              " [0.0,\n",
              "  'Future of CyberSecurityInfographicv ingliguoriInfoSec MobileSecurity Tech Ransomware CyberSec'],\n",
              " [0.0,\n",
              "  'Another breakthrough using AI to enhance diagnostics tests In this case artificialintelligence raised'],\n",
              " [0.03750000000000002,\n",
              "  'Artificial General Intelligence AGI is an attempt to create a tool set which is able to approach any problem much'],\n",
              " [0.1,\n",
              "  'The use of AI in business processes is not restricted to B2C companies alone BernardMarr offers examples of how'],\n",
              " [-0.19999999999999998,\n",
              "  'Several women will lead the 21st century in the field of Artificial Intelligence In the fields of entrepreneurship'],\n",
              " [0.5,\n",
              "  'Forrester defines Business Process AI as any multistep operational process that uses two or more ML models or'],\n",
              " [0.16666666666666666,\n",
              "  'AoF 56 3 Clever Ways to use Storytelling in Data Science w Kirk Borne Analytics On fire podcast Analytics on Fi'],\n",
              " [0.0,\n",
              "  '10 ArtificialIntelligence Predictions for 2021Via ingliguori HT guidaautonoma']]"
            ]
          },
          "metadata": {
            "tags": []
          },
          "execution_count": 13
        }
      ]
    },
    {
      "cell_type": "code",
      "metadata": {
        "id": "a9omJyxiuG0c",
        "colab": {
          "base_uri": "https://localhost:8080/",
          "height": 359
        },
        "outputId": "a82504d1-fa0d-4ffe-cb19-84615ff0db6f"
      },
      "source": [
        "# Create dataframe from sentiment_values\r\n",
        "sentiment_df = pd.DataFrame(sentiment_values, columns=['Polarity', 'Tweet'])\r\n",
        "\r\n",
        "sentiment_df.head(10)"
      ],
      "execution_count": null,
      "outputs": [
        {
          "output_type": "execute_result",
          "data": {
            "text/html": [
              "<div>\n",
              "<style scoped>\n",
              "    .dataframe tbody tr th:only-of-type {\n",
              "        vertical-align: middle;\n",
              "    }\n",
              "\n",
              "    .dataframe tbody tr th {\n",
              "        vertical-align: top;\n",
              "    }\n",
              "\n",
              "    .dataframe thead th {\n",
              "        text-align: right;\n",
              "    }\n",
              "</style>\n",
              "<table border=\"1\" class=\"dataframe\">\n",
              "  <thead>\n",
              "    <tr style=\"text-align: right;\">\n",
              "      <th></th>\n",
              "      <th>Polarity</th>\n",
              "      <th>Tweet</th>\n",
              "    </tr>\n",
              "  </thead>\n",
              "  <tbody>\n",
              "    <tr>\n",
              "      <th>0</th>\n",
              "      <td>-0.250000</td>\n",
              "      <td>The impact of Artificial Intelligence on the l...</td>\n",
              "    </tr>\n",
              "    <tr>\n",
              "      <th>1</th>\n",
              "      <td>0.000000</td>\n",
              "      <td>AI in surgery series SurgJournalThe future of ...</td>\n",
              "    </tr>\n",
              "    <tr>\n",
              "      <th>2</th>\n",
              "      <td>0.000000</td>\n",
              "      <td>Future of CyberSecurityInfographicv ingliguori...</td>\n",
              "    </tr>\n",
              "    <tr>\n",
              "      <th>3</th>\n",
              "      <td>0.000000</td>\n",
              "      <td>Another breakthrough using AI to enhance diagn...</td>\n",
              "    </tr>\n",
              "    <tr>\n",
              "      <th>4</th>\n",
              "      <td>0.037500</td>\n",
              "      <td>Artificial General Intelligence AGI is an atte...</td>\n",
              "    </tr>\n",
              "    <tr>\n",
              "      <th>5</th>\n",
              "      <td>0.100000</td>\n",
              "      <td>The use of AI in business processes is not res...</td>\n",
              "    </tr>\n",
              "    <tr>\n",
              "      <th>6</th>\n",
              "      <td>-0.200000</td>\n",
              "      <td>Several women will lead the 21st century in th...</td>\n",
              "    </tr>\n",
              "    <tr>\n",
              "      <th>7</th>\n",
              "      <td>0.500000</td>\n",
              "      <td>Forrester defines Business Process AI as any m...</td>\n",
              "    </tr>\n",
              "    <tr>\n",
              "      <th>8</th>\n",
              "      <td>0.166667</td>\n",
              "      <td>AoF 56 3 Clever Ways to use Storytelling in Da...</td>\n",
              "    </tr>\n",
              "    <tr>\n",
              "      <th>9</th>\n",
              "      <td>0.000000</td>\n",
              "      <td>10 ArtificialIntelligence Predictions for 2021...</td>\n",
              "    </tr>\n",
              "  </tbody>\n",
              "</table>\n",
              "</div>"
            ],
            "text/plain": [
              "   Polarity                                              Tweet\n",
              "0 -0.250000  The impact of Artificial Intelligence on the l...\n",
              "1  0.000000  AI in surgery series SurgJournalThe future of ...\n",
              "2  0.000000  Future of CyberSecurityInfographicv ingliguori...\n",
              "3  0.000000  Another breakthrough using AI to enhance diagn...\n",
              "4  0.037500  Artificial General Intelligence AGI is an atte...\n",
              "5  0.100000  The use of AI in business processes is not res...\n",
              "6 -0.200000  Several women will lead the 21st century in th...\n",
              "7  0.500000  Forrester defines Business Process AI as any m...\n",
              "8  0.166667  AoF 56 3 Clever Ways to use Storytelling in Da...\n",
              "9  0.000000  10 ArtificialIntelligence Predictions for 2021..."
            ]
          },
          "metadata": {
            "tags": []
          },
          "execution_count": 14
        }
      ]
    },
    {
      "cell_type": "code",
      "metadata": {
        "id": "wAhHr4QLk5ZI",
        "colab": {
          "base_uri": "https://localhost:8080/",
          "height": 390
        },
        "outputId": "1ed5a041-aaf9-465f-e8c6-21ad5b6ac48a"
      },
      "source": [
        "# Plot histogram of the polarity values\r\n",
        "fig, ax = plt.subplots(figsize=(8, 6))\r\n",
        "\r\n",
        "sentiment_df.hist(bins=[-1, -0.75, -0.5, -0.25, 0.25, 0.5, 0.75, 1],\r\n",
        "             ax=ax,\r\n",
        "             color=\"blue\")\r\n",
        "\r\n",
        "plt.title(\"Sentiments from Tweets on Artificial Intelligence\")\r\n",
        "plt.show()"
      ],
      "execution_count": null,
      "outputs": [
        {
          "output_type": "display_data",
          "data": {
            "image/png": "[encoded data removed]",
            "text/plain": [
              "<Figure size 576x432 with 1 Axes>"
            ]
          },
          "metadata": {
            "tags": [],
            "needs_background": "light"
          }
        }
      ]
    },
    {
      "cell_type": "code",
      "metadata": {
        "id": "vUNJ3y0qlA18"
      },
      "source": [
        "# Remove polarity values equal to zero\r\n",
        "sentiment_df = sentiment_df[sentiment_df.Polarity != 0]"
      ],
      "execution_count": null,
      "outputs": []
    },
    {
      "cell_type": "code",
      "metadata": {
        "id": "cO_0fqgglDjk",
        "colab": {
          "base_uri": "https://localhost:8080/",
          "height": 390
        },
        "outputId": "bb69391f-d010-4105-d6a6-387b32ed0d3e"
      },
      "source": [
        "# Plot histogram with break at zero\r\n",
        "fig, ax = plt.subplots(figsize=(8, 6))\r\n",
        "\r\n",
        "sentiment_df.hist(bins=[-1, -0.75, -0.5, -0.25, 0.0, 0.25, 0.5, 0.75, 1],\r\n",
        "             ax=ax,\r\n",
        "             color=\"blue\")\r\n",
        "\r\n",
        "plt.title(\"Sentiments from Tweets on Artificial Intelligence\")\r\n",
        "plt.show()"
      ],
      "execution_count": null,
      "outputs": [
        {
          "output_type": "display_data",
          "data": {
            "image/png": "[encoded data removed]",
            "text/plain": [
              "<Figure size 576x432 with 1 Axes>"
            ]
          },
          "metadata": {
            "tags": [],
            "needs_background": "light"
          }
        }
      ]
    },
    {
      "cell_type": "code",
      "metadata": {
        "id": "m9yt49tzlMNn",
        "colab": {
          "base_uri": "https://localhost:8080/"
        },
        "outputId": "e1b32bf5-b710-4a0e-dcfe-70dfac6be190"
      },
      "source": [
        "# Get polarity values and get the sentiment from the tweets\r\n",
        "total_polarity = 0\r\n",
        "sentiment = \"\"\r\n",
        "\r\n",
        "for tweet in sentiment_objects:\r\n",
        "  total_polarity += tweet.polarity\r\n",
        "\r\n",
        "total_polarity /= len(sentiment_objects)\r\n",
        "\r\n",
        "if(total_polarity > 0):\r\n",
        "  sentiment = \"Positive\"\r\n",
        "else:\r\n",
        "  sentiment = \"Negative\"\r\n",
        "\r\n",
        "print(\"Polarity  : \" + str(total_polarity))\r\n",
        "print(\"Sentiment : \" + sentiment)"
      ],
      "execution_count": null,
      "outputs": [
        {
          "output_type": "stream",
          "text": [
            "Polarity  : -0.1439142270923513\n",
            "Sentiment : Negative\n"
          ],
          "name": "stdout"
        }
      ]
    }
  ]
}